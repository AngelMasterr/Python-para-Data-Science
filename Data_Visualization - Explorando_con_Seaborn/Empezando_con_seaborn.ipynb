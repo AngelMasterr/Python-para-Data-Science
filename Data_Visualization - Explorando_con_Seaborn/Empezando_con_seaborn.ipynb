{
 "cells": [
  {
   "cell_type": "code",
   "execution_count": 3,
   "metadata": {},
   "outputs": [],
   "source": [
    "import pandas as pd\n",
    "import seaborn as sns"
   ]
  },
  {
   "cell_type": "markdown",
   "metadata": {},
   "source": [
    "Seaborn es una biblioteca de visualización de datos en Python que se basa en Matplotlib y proporciona una interfaz de alto nivel para crear gráficos atractivos y estadísticas informativas. Aunque no está directamente integrada con pandas, Seaborn es comúnmente utilizada junto con pandas para visualizar conjuntos de datos almacenados en DataFrames."
   ]
  },
  {
   "cell_type": "code",
   "execution_count": 2,
   "metadata": {},
   "outputs": [
    {
     "name": "stdout",
     "output_type": "stream",
     "text": [
      "Name: seaborn\n",
      "Version: 0.13.2\n",
      "Summary: Statistical data visualization\n",
      "Home-page: \n",
      "Author: \n",
      "Author-email: Michael Waskom <mwaskom@gmail.com>\n",
      "License: \n",
      "Location: C:\\Users\\USUARIO\\AppData\\Local\\Programs\\Python\\Python312\\Lib\\site-packages\n",
      "Requires: matplotlib, numpy, pandas\n",
      "Required-by: \n"
     ]
    }
   ],
   "source": [
    "# Mostrar la version que tenemos instalada de seaborn\n",
    "!pip show seaborn"
   ]
  },
  {
   "cell_type": "code",
   "execution_count": 5,
   "metadata": {},
   "outputs": [
    {
     "data": {
      "text/html": [
       "<div>\n",
       "<style scoped>\n",
       "    .dataframe tbody tr th:only-of-type {\n",
       "        vertical-align: middle;\n",
       "    }\n",
       "\n",
       "    .dataframe tbody tr th {\n",
       "        vertical-align: top;\n",
       "    }\n",
       "\n",
       "    .dataframe thead th {\n",
       "        text-align: right;\n",
       "    }\n",
       "</style>\n",
       "<table border=\"1\" class=\"dataframe\">\n",
       "  <thead>\n",
       "    <tr style=\"text-align: right;\">\n",
       "      <th></th>\n",
       "      <th>limite</th>\n",
       "      <th>cuenta_corriente</th>\n",
       "      <th>escolaridad</th>\n",
       "      <th>estado_civil</th>\n",
       "      <th>edad</th>\n",
       "      <th>valor_factura</th>\n",
       "      <th>valor_pago</th>\n",
       "      <th>moroso</th>\n",
       "    </tr>\n",
       "  </thead>\n",
       "  <tbody>\n",
       "    <tr>\n",
       "      <th>0</th>\n",
       "      <td>6022</td>\n",
       "      <td>Si</td>\n",
       "      <td>2.Universidad</td>\n",
       "      <td>Casado/a</td>\n",
       "      <td>24</td>\n",
       "      <td>934.0122</td>\n",
       "      <td>0.0000</td>\n",
       "      <td>1</td>\n",
       "    </tr>\n",
       "    <tr>\n",
       "      <th>1</th>\n",
       "      <td>36132</td>\n",
       "      <td>Si</td>\n",
       "      <td>2.Universidad</td>\n",
       "      <td>Soltero/a</td>\n",
       "      <td>26</td>\n",
       "      <td>519.3975</td>\n",
       "      <td>0.0000</td>\n",
       "      <td>1</td>\n",
       "    </tr>\n",
       "    <tr>\n",
       "      <th>2</th>\n",
       "      <td>27099</td>\n",
       "      <td>Si</td>\n",
       "      <td>2.Universidad</td>\n",
       "      <td>Soltero/a</td>\n",
       "      <td>34</td>\n",
       "      <td>4223.5297</td>\n",
       "      <td>457.0698</td>\n",
       "      <td>0</td>\n",
       "    </tr>\n",
       "    <tr>\n",
       "      <th>3</th>\n",
       "      <td>15055</td>\n",
       "      <td>Si</td>\n",
       "      <td>2.Universidad</td>\n",
       "      <td>Casado/a</td>\n",
       "      <td>37</td>\n",
       "      <td>14522.9563</td>\n",
       "      <td>602.2000</td>\n",
       "      <td>0</td>\n",
       "    </tr>\n",
       "    <tr>\n",
       "      <th>4</th>\n",
       "      <td>150550</td>\n",
       "      <td>No</td>\n",
       "      <td>3.Pos-graduación</td>\n",
       "      <td>Soltero/a</td>\n",
       "      <td>29</td>\n",
       "      <td>124060.1253</td>\n",
       "      <td>16560.5000</td>\n",
       "      <td>0</td>\n",
       "    </tr>\n",
       "    <tr>\n",
       "      <th>5</th>\n",
       "      <td>30110</td>\n",
       "      <td>Si</td>\n",
       "      <td>2.Universidad</td>\n",
       "      <td>Soltero/a</td>\n",
       "      <td>23</td>\n",
       "      <td>114.4180</td>\n",
       "      <td>114.4180</td>\n",
       "      <td>0</td>\n",
       "    </tr>\n",
       "    <tr>\n",
       "      <th>6</th>\n",
       "      <td>42154</td>\n",
       "      <td>Si</td>\n",
       "      <td>1.Colegio</td>\n",
       "      <td>Casado/a</td>\n",
       "      <td>28</td>\n",
       "      <td>4244.3056</td>\n",
       "      <td>1002.3619</td>\n",
       "      <td>0</td>\n",
       "    </tr>\n",
       "    <tr>\n",
       "      <th>7</th>\n",
       "      <td>60220</td>\n",
       "      <td>Si</td>\n",
       "      <td>1.Colegio</td>\n",
       "      <td>Soltero/a</td>\n",
       "      <td>34</td>\n",
       "      <td>2946.8657</td>\n",
       "      <td>694.3366</td>\n",
       "      <td>0</td>\n",
       "    </tr>\n",
       "    <tr>\n",
       "      <th>8</th>\n",
       "      <td>78286</td>\n",
       "      <td>Si</td>\n",
       "      <td>3.Pos-graduación</td>\n",
       "      <td>Soltero/a</td>\n",
       "      <td>51</td>\n",
       "      <td>6524.8370</td>\n",
       "      <td>6524.8370</td>\n",
       "      <td>0</td>\n",
       "    </tr>\n",
       "    <tr>\n",
       "      <th>9</th>\n",
       "      <td>189693</td>\n",
       "      <td>Si</td>\n",
       "      <td>2.Universidad</td>\n",
       "      <td>Soltero/a</td>\n",
       "      <td>41</td>\n",
       "      <td>1957.1500</td>\n",
       "      <td>301.1000</td>\n",
       "      <td>0</td>\n",
       "    </tr>\n",
       "  </tbody>\n",
       "</table>\n",
       "</div>"
      ],
      "text/plain": [
       "   limite cuenta_corriente       escolaridad estado_civil  edad  \\\n",
       "0    6022               Si     2.Universidad     Casado/a    24   \n",
       "1   36132               Si     2.Universidad    Soltero/a    26   \n",
       "2   27099               Si     2.Universidad    Soltero/a    34   \n",
       "3   15055               Si     2.Universidad     Casado/a    37   \n",
       "4  150550               No  3.Pos-graduación    Soltero/a    29   \n",
       "5   30110               Si     2.Universidad    Soltero/a    23   \n",
       "6   42154               Si         1.Colegio     Casado/a    28   \n",
       "7   60220               Si         1.Colegio    Soltero/a    34   \n",
       "8   78286               Si  3.Pos-graduación    Soltero/a    51   \n",
       "9  189693               Si     2.Universidad    Soltero/a    41   \n",
       "\n",
       "   valor_factura  valor_pago  moroso  \n",
       "0       934.0122      0.0000       1  \n",
       "1       519.3975      0.0000       1  \n",
       "2      4223.5297    457.0698       0  \n",
       "3     14522.9563    602.2000       0  \n",
       "4    124060.1253  16560.5000       0  \n",
       "5       114.4180    114.4180       0  \n",
       "6      4244.3056   1002.3619       0  \n",
       "7      2946.8657    694.3366       0  \n",
       "8      6524.8370   6524.8370       0  \n",
       "9      1957.1500    301.1000       0  "
      ]
     },
     "execution_count": 5,
     "metadata": {},
     "output_type": "execute_result"
    }
   ],
   "source": [
    "tarjetas = pd.read_csv('Data/tarjetas.csv', sep=',')\n",
    "tarjetas.head(10)"
   ]
  },
  {
   "cell_type": "code",
   "execution_count": 7,
   "metadata": {},
   "outputs": [
    {
     "data": {
      "text/plain": [
       "(1500, 8)"
      ]
     },
     "execution_count": 7,
     "metadata": {},
     "output_type": "execute_result"
    }
   ],
   "source": [
    "tarjetas.shape"
   ]
  },
  {
   "cell_type": "markdown",
   "metadata": {},
   "source": [
    "<font color= yellow> Graficar con seaborn"
   ]
  },
  {
   "cell_type": "markdown",
   "metadata": {},
   "source": [
    "Analisis 1"
   ]
  },
  {
   "cell_type": "code",
   "execution_count": 14,
   "metadata": {},
   "outputs": [
    {
     "data": {
      "image/png": "[encoded data removed]",
      "text/plain": [
       "<Figure size 669.75x500 with 1 Axes>"
      ]
     },
     "metadata": {},
     "output_type": "display_data"
    }
   ],
   "source": [
    "sns.displot(data=tarjetas, x='limite', hue='escolaridad', kde=True);"
   ]
  },
  {
   "cell_type": "markdown",
   "metadata": {},
   "source": [
    "Analisis 2"
   ]
  },
  {
   "cell_type": "markdown",
   "metadata": {},
   "source": [
    "Crear una columna con el porcentaje que una persona uso (valor factura) del total de limite que tiene disponible"
   ]
  },
  {
   "cell_type": "code",
   "execution_count": 15,
   "metadata": {},
   "outputs": [
    {
     "data": {
      "text/html": [
       "<div>\n",
       "<style scoped>\n",
       "    .dataframe tbody tr th:only-of-type {\n",
       "        vertical-align: middle;\n",
       "    }\n",
       "\n",
       "    .dataframe tbody tr th {\n",
       "        vertical-align: top;\n",
       "    }\n",
       "\n",
       "    .dataframe thead th {\n",
       "        text-align: right;\n",
       "    }\n",
       "</style>\n",
       "<table border=\"1\" class=\"dataframe\">\n",
       "  <thead>\n",
       "    <tr style=\"text-align: right;\">\n",
       "      <th></th>\n",
       "      <th>limite</th>\n",
       "      <th>cuenta_corriente</th>\n",
       "      <th>escolaridad</th>\n",
       "      <th>estado_civil</th>\n",
       "      <th>edad</th>\n",
       "      <th>valor_factura</th>\n",
       "      <th>valor_pago</th>\n",
       "      <th>moroso</th>\n",
       "      <th>iu</th>\n",
       "    </tr>\n",
       "  </thead>\n",
       "  <tbody>\n",
       "    <tr>\n",
       "      <th>0</th>\n",
       "      <td>6022</td>\n",
       "      <td>Si</td>\n",
       "      <td>2.Universidad</td>\n",
       "      <td>Casado/a</td>\n",
       "      <td>24</td>\n",
       "      <td>934.0122</td>\n",
       "      <td>0.0000</td>\n",
       "      <td>1</td>\n",
       "      <td>0.155100</td>\n",
       "    </tr>\n",
       "    <tr>\n",
       "      <th>1</th>\n",
       "      <td>36132</td>\n",
       "      <td>Si</td>\n",
       "      <td>2.Universidad</td>\n",
       "      <td>Soltero/a</td>\n",
       "      <td>26</td>\n",
       "      <td>519.3975</td>\n",
       "      <td>0.0000</td>\n",
       "      <td>1</td>\n",
       "      <td>0.014375</td>\n",
       "    </tr>\n",
       "    <tr>\n",
       "      <th>2</th>\n",
       "      <td>27099</td>\n",
       "      <td>Si</td>\n",
       "      <td>2.Universidad</td>\n",
       "      <td>Soltero/a</td>\n",
       "      <td>34</td>\n",
       "      <td>4223.5297</td>\n",
       "      <td>457.0698</td>\n",
       "      <td>0</td>\n",
       "      <td>0.155856</td>\n",
       "    </tr>\n",
       "    <tr>\n",
       "      <th>3</th>\n",
       "      <td>15055</td>\n",
       "      <td>Si</td>\n",
       "      <td>2.Universidad</td>\n",
       "      <td>Casado/a</td>\n",
       "      <td>37</td>\n",
       "      <td>14522.9563</td>\n",
       "      <td>602.2000</td>\n",
       "      <td>0</td>\n",
       "      <td>0.964660</td>\n",
       "    </tr>\n",
       "    <tr>\n",
       "      <th>4</th>\n",
       "      <td>150550</td>\n",
       "      <td>No</td>\n",
       "      <td>3.Pos-graduación</td>\n",
       "      <td>Soltero/a</td>\n",
       "      <td>29</td>\n",
       "      <td>124060.1253</td>\n",
       "      <td>16560.5000</td>\n",
       "      <td>0</td>\n",
       "      <td>0.824046</td>\n",
       "    </tr>\n",
       "    <tr>\n",
       "      <th>5</th>\n",
       "      <td>30110</td>\n",
       "      <td>Si</td>\n",
       "      <td>2.Universidad</td>\n",
       "      <td>Soltero/a</td>\n",
       "      <td>23</td>\n",
       "      <td>114.4180</td>\n",
       "      <td>114.4180</td>\n",
       "      <td>0</td>\n",
       "      <td>0.003800</td>\n",
       "    </tr>\n",
       "    <tr>\n",
       "      <th>6</th>\n",
       "      <td>42154</td>\n",
       "      <td>Si</td>\n",
       "      <td>1.Colegio</td>\n",
       "      <td>Casado/a</td>\n",
       "      <td>28</td>\n",
       "      <td>4244.3056</td>\n",
       "      <td>1002.3619</td>\n",
       "      <td>0</td>\n",
       "      <td>0.100686</td>\n",
       "    </tr>\n",
       "    <tr>\n",
       "      <th>7</th>\n",
       "      <td>60220</td>\n",
       "      <td>Si</td>\n",
       "      <td>1.Colegio</td>\n",
       "      <td>Soltero/a</td>\n",
       "      <td>34</td>\n",
       "      <td>2946.8657</td>\n",
       "      <td>694.3366</td>\n",
       "      <td>0</td>\n",
       "      <td>0.048935</td>\n",
       "    </tr>\n",
       "    <tr>\n",
       "      <th>8</th>\n",
       "      <td>78286</td>\n",
       "      <td>Si</td>\n",
       "      <td>3.Pos-graduación</td>\n",
       "      <td>Soltero/a</td>\n",
       "      <td>51</td>\n",
       "      <td>6524.8370</td>\n",
       "      <td>6524.8370</td>\n",
       "      <td>0</td>\n",
       "      <td>0.083346</td>\n",
       "    </tr>\n",
       "    <tr>\n",
       "      <th>9</th>\n",
       "      <td>189693</td>\n",
       "      <td>Si</td>\n",
       "      <td>2.Universidad</td>\n",
       "      <td>Soltero/a</td>\n",
       "      <td>41</td>\n",
       "      <td>1957.1500</td>\n",
       "      <td>301.1000</td>\n",
       "      <td>0</td>\n",
       "      <td>0.010317</td>\n",
       "    </tr>\n",
       "  </tbody>\n",
       "</table>\n",
       "</div>"
      ],
      "text/plain": [
       "   limite cuenta_corriente       escolaridad estado_civil  edad  \\\n",
       "0    6022               Si     2.Universidad     Casado/a    24   \n",
       "1   36132               Si     2.Universidad    Soltero/a    26   \n",
       "2   27099               Si     2.Universidad    Soltero/a    34   \n",
       "3   15055               Si     2.Universidad     Casado/a    37   \n",
       "4  150550               No  3.Pos-graduación    Soltero/a    29   \n",
       "5   30110               Si     2.Universidad    Soltero/a    23   \n",
       "6   42154               Si         1.Colegio     Casado/a    28   \n",
       "7   60220               Si         1.Colegio    Soltero/a    34   \n",
       "8   78286               Si  3.Pos-graduación    Soltero/a    51   \n",
       "9  189693               Si     2.Universidad    Soltero/a    41   \n",
       "\n",
       "   valor_factura  valor_pago  moroso        iu  \n",
       "0       934.0122      0.0000       1  0.155100  \n",
       "1       519.3975      0.0000       1  0.014375  \n",
       "2      4223.5297    457.0698       0  0.155856  \n",
       "3     14522.9563    602.2000       0  0.964660  \n",
       "4    124060.1253  16560.5000       0  0.824046  \n",
       "5       114.4180    114.4180       0  0.003800  \n",
       "6      4244.3056   1002.3619       0  0.100686  \n",
       "7      2946.8657    694.3366       0  0.048935  \n",
       "8      6524.8370   6524.8370       0  0.083346  \n",
       "9      1957.1500    301.1000       0  0.010317  "
      ]
     },
     "execution_count": 15,
     "metadata": {},
     "output_type": "execute_result"
    }
   ],
   "source": [
    "# Crear columna que indique el porcentaje que uso segun el limite disponible\n",
    "tarjetas['iu'] = tarjetas['valor_factura'] / tarjetas['limite']\n",
    "tarjetas.head(10)"
   ]
  },
  {
   "cell_type": "code",
   "execution_count": 18,
   "metadata": {},
   "outputs": [
    {
     "data": {
      "text/plain": [
       "<seaborn.axisgrid.FacetGrid at 0x2cea61512b0>"
      ]
     },
     "execution_count": 18,
     "metadata": {},
     "output_type": "execute_result"
    },
    {
     "data": {
      "image/png": "[encoded data removed]",
      "text/plain": [
       "<Figure size 400x400 with 1 Axes>"
      ]
     },
     "metadata": {},
     "output_type": "display_data"
    }
   ],
   "source": [
    "sns.displot(data=tarjetas, x='iu', height=4) "
   ]
  },
  {
   "cell_type": "markdown",
   "metadata": {},
   "source": [
    "Hay un publico significativo que usa poco dinero del limite que tiene dispobible"
   ]
  },
  {
   "cell_type": "markdown",
   "metadata": {},
   "source": [
    "<font color= yellow> Creando graficos son estilos y colores"
   ]
  },
  {
   "cell_type": "code",
   "execution_count": 21,
   "metadata": {},
   "outputs": [],
   "source": [
    "# Darle un fondo a nuestros graficos\n",
    "sns.set_style('darkgrid')"
   ]
  },
  {
   "cell_type": "code",
   "execution_count": 56,
   "metadata": {},
   "outputs": [
    {
     "data": {
      "image/png": "[encoded data removed]",
      "text/plain": [
       "<Figure size 659.125x500 with 1 Axes>"
      ]
     },
     "metadata": {},
     "output_type": "display_data"
    }
   ],
   "source": [
    "sns.displot(data=tarjetas, x='limite', hue='escolaridad', palette='Dark2');"
   ]
  },
  {
   "cell_type": "code",
   "execution_count": null,
   "metadata": {},
   "outputs": [],
   "source": []
  }
 ],
 "metadata": {
  "kernelspec": {
   "display_name": "Python 3",
   "language": "python",
   "name": "python3"
  },
  "language_info": {
   "codemirror_mode": {
    "name": "ipython",
    "version": 3
   },
   "file_extension": ".py",
   "mimetype": "text/x-python",
   "name": "python",
   "nbconvert_exporter": "python",
   "pygments_lexer": "ipython3",
   "version": "3.12.1"
  }
 },
 "nbformat": 4,
 "nbformat_minor": 2
}
