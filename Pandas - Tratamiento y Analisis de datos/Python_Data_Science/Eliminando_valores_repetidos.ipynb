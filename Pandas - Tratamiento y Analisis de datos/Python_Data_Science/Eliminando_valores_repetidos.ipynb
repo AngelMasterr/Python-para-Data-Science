{
 "cells": [
  {
   "cell_type": "code",
   "execution_count": 1,
   "metadata": {},
   "outputs": [],
   "source": [
    "import pandas as pd"
   ]
  },
  {
   "cell_type": "code",
   "execution_count": 2,
   "metadata": {},
   "outputs": [],
   "source": [
    "datos = pd.read_csv('data/alquiler.csv', sep=';')"
   ]
  },
  {
   "cell_type": "code",
   "execution_count": 3,
   "metadata": {},
   "outputs": [
    {
     "data": {
      "text/html": [
       "<div>\n",
       "<style scoped>\n",
       "    .dataframe tbody tr th:only-of-type {\n",
       "        vertical-align: middle;\n",
       "    }\n",
       "\n",
       "    .dataframe tbody tr th {\n",
       "        vertical-align: top;\n",
       "    }\n",
       "\n",
       "    .dataframe thead th {\n",
       "        text-align: right;\n",
       "    }\n",
       "</style>\n",
       "<table border=\"1\" class=\"dataframe\">\n",
       "  <thead>\n",
       "    <tr style=\"text-align: right;\">\n",
       "      <th></th>\n",
       "      <th>Tipo</th>\n",
       "      <th>Distrito</th>\n",
       "      <th>Cuartos</th>\n",
       "      <th>Vacantes</th>\n",
       "      <th>Suites</th>\n",
       "      <th>Area</th>\n",
       "      <th>Valor</th>\n",
       "      <th>Mantenimiento</th>\n",
       "      <th>Impuesto</th>\n",
       "    </tr>\n",
       "  </thead>\n",
       "  <tbody>\n",
       "    <tr>\n",
       "      <th>0</th>\n",
       "      <td>Habitación</td>\n",
       "      <td>San Borja</td>\n",
       "      <td>1</td>\n",
       "      <td>0</td>\n",
       "      <td>0</td>\n",
       "      <td>40</td>\n",
       "      <td>1700.0</td>\n",
       "      <td>500.0</td>\n",
       "      <td>60.0</td>\n",
       "    </tr>\n",
       "    <tr>\n",
       "      <th>1</th>\n",
       "      <td>Casa</td>\n",
       "      <td>Lurigancho</td>\n",
       "      <td>2</td>\n",
       "      <td>0</td>\n",
       "      <td>1</td>\n",
       "      <td>100</td>\n",
       "      <td>7000.0</td>\n",
       "      <td>NaN</td>\n",
       "      <td>NaN</td>\n",
       "    </tr>\n",
       "    <tr>\n",
       "      <th>2</th>\n",
       "      <td>Local comercial</td>\n",
       "      <td>Ate</td>\n",
       "      <td>0</td>\n",
       "      <td>4</td>\n",
       "      <td>0</td>\n",
       "      <td>150</td>\n",
       "      <td>5200.0</td>\n",
       "      <td>4020.0</td>\n",
       "      <td>1111.0</td>\n",
       "    </tr>\n",
       "    <tr>\n",
       "      <th>3</th>\n",
       "      <td>Departamento</td>\n",
       "      <td>Pachacámac</td>\n",
       "      <td>1</td>\n",
       "      <td>0</td>\n",
       "      <td>0</td>\n",
       "      <td>15</td>\n",
       "      <td>800.0</td>\n",
       "      <td>390.0</td>\n",
       "      <td>20.0</td>\n",
       "    </tr>\n",
       "    <tr>\n",
       "      <th>4</th>\n",
       "      <td>Departamento</td>\n",
       "      <td>Ate</td>\n",
       "      <td>1</td>\n",
       "      <td>0</td>\n",
       "      <td>0</td>\n",
       "      <td>48</td>\n",
       "      <td>800.0</td>\n",
       "      <td>230.0</td>\n",
       "      <td>NaN</td>\n",
       "    </tr>\n",
       "    <tr>\n",
       "      <th>5</th>\n",
       "      <td>Departamento</td>\n",
       "      <td>Barranco</td>\n",
       "      <td>3</td>\n",
       "      <td>1</td>\n",
       "      <td>0</td>\n",
       "      <td>70</td>\n",
       "      <td>1200.0</td>\n",
       "      <td>NaN</td>\n",
       "      <td>NaN</td>\n",
       "    </tr>\n",
       "    <tr>\n",
       "      <th>6</th>\n",
       "      <td>Departamento</td>\n",
       "      <td>Comas</td>\n",
       "      <td>2</td>\n",
       "      <td>0</td>\n",
       "      <td>0</td>\n",
       "      <td>50</td>\n",
       "      <td>1300.0</td>\n",
       "      <td>301.0</td>\n",
       "      <td>17.0</td>\n",
       "    </tr>\n",
       "    <tr>\n",
       "      <th>7</th>\n",
       "      <td>Casa en condominio</td>\n",
       "      <td>Ate</td>\n",
       "      <td>5</td>\n",
       "      <td>4</td>\n",
       "      <td>5</td>\n",
       "      <td>750</td>\n",
       "      <td>22000.0</td>\n",
       "      <td>NaN</td>\n",
       "      <td>NaN</td>\n",
       "    </tr>\n",
       "    <tr>\n",
       "      <th>8</th>\n",
       "      <td>Casa en condominio</td>\n",
       "      <td>El Agustino</td>\n",
       "      <td>2</td>\n",
       "      <td>2</td>\n",
       "      <td>0</td>\n",
       "      <td>65</td>\n",
       "      <td>1000.0</td>\n",
       "      <td>NaN</td>\n",
       "      <td>NaN</td>\n",
       "    </tr>\n",
       "    <tr>\n",
       "      <th>9</th>\n",
       "      <td>Local comercial</td>\n",
       "      <td>Pachacámac</td>\n",
       "      <td>0</td>\n",
       "      <td>3</td>\n",
       "      <td>0</td>\n",
       "      <td>695</td>\n",
       "      <td>35000.0</td>\n",
       "      <td>19193.0</td>\n",
       "      <td>3030.0</td>\n",
       "    </tr>\n",
       "  </tbody>\n",
       "</table>\n",
       "</div>"
      ],
      "text/plain": [
       "                 Tipo     Distrito  Cuartos  Vacantes  Suites  Area    Valor  \\\n",
       "0          Habitación    San Borja        1         0       0    40   1700.0   \n",
       "1                Casa   Lurigancho        2         0       1   100   7000.0   \n",
       "2     Local comercial          Ate        0         4       0   150   5200.0   \n",
       "3        Departamento   Pachacámac        1         0       0    15    800.0   \n",
       "4        Departamento          Ate        1         0       0    48    800.0   \n",
       "5        Departamento     Barranco        3         1       0    70   1200.0   \n",
       "6        Departamento        Comas        2         0       0    50   1300.0   \n",
       "7  Casa en condominio          Ate        5         4       5   750  22000.0   \n",
       "8  Casa en condominio  El Agustino        2         2       0    65   1000.0   \n",
       "9     Local comercial   Pachacámac        0         3       0   695  35000.0   \n",
       "\n",
       "   Mantenimiento  Impuesto  \n",
       "0          500.0      60.0  \n",
       "1            NaN       NaN  \n",
       "2         4020.0    1111.0  \n",
       "3          390.0      20.0  \n",
       "4          230.0       NaN  \n",
       "5            NaN       NaN  \n",
       "6          301.0      17.0  \n",
       "7            NaN       NaN  \n",
       "8            NaN       NaN  \n",
       "9        19193.0    3030.0  "
      ]
     },
     "execution_count": 3,
     "metadata": {},
     "output_type": "execute_result"
    }
   ],
   "source": [
    "datos.head(10)"
   ]
  },
  {
   "cell_type": "markdown",
   "metadata": {},
   "source": [
    "#### <font color=yellow> Extraer la columna Tipo"
   ]
  },
  {
   "cell_type": "code",
   "execution_count": 8,
   "metadata": {},
   "outputs": [
    {
     "data": {
      "text/plain": [
       "0             Habitación\n",
       "1                   Casa\n",
       "2        Local comercial\n",
       "3           Departamento\n",
       "4           Departamento\n",
       "              ...       \n",
       "32955         Habitación\n",
       "32956       Departamento\n",
       "32957       Departamento\n",
       "32958       Departamento\n",
       "32959    Local comercial\n",
       "Name: Tipo, Length: 32960, dtype: object"
      ]
     },
     "execution_count": 8,
     "metadata": {},
     "output_type": "execute_result"
    }
   ],
   "source": [
    "datos['Tipo']"
   ]
  },
  {
   "cell_type": "code",
   "execution_count": 31,
   "metadata": {},
   "outputs": [
    {
     "data": {
      "text/plain": [
       "0             Habitación\n",
       "1                   Casa\n",
       "2        Local comercial\n",
       "3           Departamento\n",
       "4           Departamento\n",
       "              ...       \n",
       "32955         Habitación\n",
       "32956       Departamento\n",
       "32957       Departamento\n",
       "32958       Departamento\n",
       "32959    Local comercial\n",
       "Name: Tipo, Length: 32960, dtype: object"
      ]
     },
     "execution_count": 31,
     "metadata": {},
     "output_type": "execute_result"
    }
   ],
   "source": [
    "tipo_de_inmueble = datos['Tipo']\n",
    "tipo_de_inmueble"
   ]
  },
  {
   "cell_type": "markdown",
   "metadata": {},
   "source": [
    "#### <font color=yellow> Eliminar los valores repetidos de la columna Tipo"
   ]
  },
  {
   "cell_type": "code",
   "execution_count": 12,
   "metadata": {},
   "outputs": [
    {
     "data": {
      "text/plain": [
       "0                        Habitación\n",
       "1                              Casa\n",
       "2                   Local comercial\n",
       "3                      Departamento\n",
       "7                Casa en condominio\n",
       "16                Edificio completo\n",
       "17                             Flat\n",
       "29                     Tienda/Salón\n",
       "80                          Almacén\n",
       "83                   Casa comercial\n",
       "117                   Casa de villa\n",
       "159                         Terreno\n",
       "207                         Cochera\n",
       "347                            Loft\n",
       "589      Tienda en Centro Comercial\n",
       "2157                         Chacra\n",
       "3354          Terreno em condominio\n",
       "4379                        Oficina\n",
       "4721                         Chalet\n",
       "6983                         Studio\n",
       "9687                          Hotel\n",
       "23614              Local industrial\n",
       "Name: Tipo, dtype: object"
      ]
     },
     "execution_count": 12,
     "metadata": {},
     "output_type": "execute_result"
    }
   ],
   "source": [
    "tipo_de_inmueble.drop_duplicates()"
   ]
  },
  {
   "cell_type": "markdown",
   "metadata": {},
   "source": [
    "#### <font color=yellow> Eliminar los valores repetidos de la columna Tipo y guardarlo en la variable"
   ]
  },
  {
   "cell_type": "code",
   "execution_count": 13,
   "metadata": {},
   "outputs": [],
   "source": [
    "tipo_de_inmueble.drop_duplicates(inplace=True)"
   ]
  },
  {
   "cell_type": "code",
   "execution_count": 14,
   "metadata": {},
   "outputs": [
    {
     "data": {
      "text/plain": [
       "0                        Habitación\n",
       "1                              Casa\n",
       "2                   Local comercial\n",
       "3                      Departamento\n",
       "7                Casa en condominio\n",
       "16                Edificio completo\n",
       "17                             Flat\n",
       "29                     Tienda/Salón\n",
       "80                          Almacén\n",
       "83                   Casa comercial\n",
       "117                   Casa de villa\n",
       "159                         Terreno\n",
       "207                         Cochera\n",
       "347                            Loft\n",
       "589      Tienda en Centro Comercial\n",
       "2157                         Chacra\n",
       "3354          Terreno em condominio\n",
       "4379                        Oficina\n",
       "4721                         Chalet\n",
       "6983                         Studio\n",
       "9687                          Hotel\n",
       "23614              Local industrial\n",
       "Name: Tipo, dtype: object"
      ]
     },
     "execution_count": 14,
     "metadata": {},
     "output_type": "execute_result"
    }
   ],
   "source": [
    "tipo_de_inmueble"
   ]
  },
  {
   "cell_type": "markdown",
   "metadata": {},
   "source": [
    "#### <font color=yellow> Organizando la visualización"
   ]
  },
  {
   "cell_type": "code",
   "execution_count": 16,
   "metadata": {},
   "outputs": [
    {
     "data": {
      "text/plain": [
       "Index([    0,     1,     2,     3,     7,    16,    17,    29,    80,    83,\n",
       "         117,   159,   207,   347,   589,  2157,  3354,  4379,  4721,  6983,\n",
       "        9687, 23614],\n",
       "      dtype='int64')"
      ]
     },
     "execution_count": 16,
     "metadata": {},
     "output_type": "execute_result"
    }
   ],
   "source": [
    "tipo_de_inmueble.index"
   ]
  },
  {
   "cell_type": "code",
   "execution_count": 17,
   "metadata": {},
   "outputs": [
    {
     "data": {
      "text/plain": [
       "pandas.core.series.Series"
      ]
     },
     "execution_count": 17,
     "metadata": {},
     "output_type": "execute_result"
    }
   ],
   "source": [
    "type(tipo_de_inmueble)"
   ]
  },
  {
   "cell_type": "markdown",
   "metadata": {},
   "source": [
    "#### Convertir la Series \"tipo_de_inmueble\" a un dataframe"
   ]
  },
  {
   "cell_type": "code",
   "execution_count": 35,
   "metadata": {},
   "outputs": [
    {
     "data": {
      "text/plain": [
       "pandas.core.frame.DataFrame"
      ]
     },
     "execution_count": 35,
     "metadata": {},
     "output_type": "execute_result"
    }
   ],
   "source": [
    "tipo_de_inmueble = pd.DataFrame(tipo_de_inmueble)\n",
    "type(tipo_de_inmueble)"
   ]
  },
  {
   "cell_type": "markdown",
   "metadata": {},
   "source": [
    "#### Conocer cuantas filas y columnas tiene nuestro dataframe"
   ]
  },
  {
   "cell_type": "code",
   "execution_count": 21,
   "metadata": {},
   "outputs": [
    {
     "data": {
      "text/plain": [
       "(22, 1)"
      ]
     },
     "execution_count": 21,
     "metadata": {},
     "output_type": "execute_result"
    }
   ],
   "source": [
    "tipo_de_inmueble.shape"
   ]
  },
  {
   "cell_type": "code",
   "execution_count": 22,
   "metadata": {},
   "outputs": [
    {
     "data": {
      "text/plain": [
       "22"
      ]
     },
     "execution_count": 22,
     "metadata": {},
     "output_type": "execute_result"
    }
   ],
   "source": [
    "tipo_de_inmueble.shape[0]"
   ]
  },
  {
   "cell_type": "code",
   "execution_count": 23,
   "metadata": {},
   "outputs": [
    {
     "data": {
      "text/plain": [
       "range(0, 22)"
      ]
     },
     "execution_count": 23,
     "metadata": {},
     "output_type": "execute_result"
    }
   ],
   "source": [
    "# crear una rango de numero con el total de las filas\n",
    "range(tipo_de_inmueble.shape[0])"
   ]
  },
  {
   "cell_type": "code",
   "execution_count": 25,
   "metadata": {},
   "outputs": [
    {
     "name": "stdout",
     "output_type": "stream",
     "text": [
      "0 1 2 3 4 5 6 7 8 9 10 11 12 13 14 15 16 17 18 19 20 21\n"
     ]
    }
   ],
   "source": [
    "# imprimir los valores del range en una sola linea\n",
    "print(' '.join(str(i) for i in range(tipo_de_inmueble.shape[0])))"
   ]
  },
  {
   "cell_type": "markdown",
   "metadata": {},
   "source": [
    "#### Cambiar los inidices de mi dataframe para que queden en orden numerico"
   ]
  },
  {
   "cell_type": "code",
   "execution_count": 33,
   "metadata": {},
   "outputs": [],
   "source": [
    "tipo_de_inmueble.index = range(tipo_de_inmueble.shape)"
   ]
  },
  {
   "cell_type": "code",
   "execution_count": 45,
   "metadata": {},
   "outputs": [
    {
     "data": {
      "text/html": [
       "<div>\n",
       "<style scoped>\n",
       "    .dataframe tbody tr th:only-of-type {\n",
       "        vertical-align: middle;\n",
       "    }\n",
       "\n",
       "    .dataframe tbody tr th {\n",
       "        vertical-align: top;\n",
       "    }\n",
       "\n",
       "    .dataframe thead th {\n",
       "        text-align: right;\n",
       "    }\n",
       "</style>\n",
       "<table border=\"1\" class=\"dataframe\">\n",
       "  <thead>\n",
       "    <tr style=\"text-align: right;\">\n",
       "      <th>ID</th>\n",
       "      <th>Tipo</th>\n",
       "    </tr>\n",
       "    <tr>\n",
       "      <th>Num</th>\n",
       "      <th></th>\n",
       "    </tr>\n",
       "  </thead>\n",
       "  <tbody>\n",
       "    <tr>\n",
       "      <th>0</th>\n",
       "      <td>Habitación</td>\n",
       "    </tr>\n",
       "    <tr>\n",
       "      <th>1</th>\n",
       "      <td>Casa</td>\n",
       "    </tr>\n",
       "    <tr>\n",
       "      <th>2</th>\n",
       "      <td>Local comercial</td>\n",
       "    </tr>\n",
       "    <tr>\n",
       "      <th>3</th>\n",
       "      <td>Departamento</td>\n",
       "    </tr>\n",
       "    <tr>\n",
       "      <th>4</th>\n",
       "      <td>Departamento</td>\n",
       "    </tr>\n",
       "    <tr>\n",
       "      <th>...</th>\n",
       "      <td>...</td>\n",
       "    </tr>\n",
       "    <tr>\n",
       "      <th>32955</th>\n",
       "      <td>Habitación</td>\n",
       "    </tr>\n",
       "    <tr>\n",
       "      <th>32956</th>\n",
       "      <td>Departamento</td>\n",
       "    </tr>\n",
       "    <tr>\n",
       "      <th>32957</th>\n",
       "      <td>Departamento</td>\n",
       "    </tr>\n",
       "    <tr>\n",
       "      <th>32958</th>\n",
       "      <td>Departamento</td>\n",
       "    </tr>\n",
       "    <tr>\n",
       "      <th>32959</th>\n",
       "      <td>Local comercial</td>\n",
       "    </tr>\n",
       "  </tbody>\n",
       "</table>\n",
       "<p>32960 rows × 1 columns</p>\n",
       "</div>"
      ],
      "text/plain": [
       "ID                Tipo\n",
       "Num                   \n",
       "0           Habitación\n",
       "1                 Casa\n",
       "2      Local comercial\n",
       "3         Departamento\n",
       "4         Departamento\n",
       "...                ...\n",
       "32955       Habitación\n",
       "32956     Departamento\n",
       "32957     Departamento\n",
       "32958     Departamento\n",
       "32959  Local comercial\n",
       "\n",
       "[32960 rows x 1 columns]"
      ]
     },
     "execution_count": 45,
     "metadata": {},
     "output_type": "execute_result"
    }
   ],
   "source": [
    "tipo_de_inmueble.columns.name = 'ID' # pone el nombre de todas las columnas en la parte izquierda\n",
    "tipo_de_inmueble.index.name = 'Num'  # Le da el nombre a la columna indice\n",
    "tipo_de_inmueble"
   ]
  }
 ],
 "metadata": {
  "kernelspec": {
   "display_name": "Python 3",
   "language": "python",
   "name": "python3"
  },
  "language_info": {
   "codemirror_mode": {
    "name": "ipython",
    "version": 3
   },
   "file_extension": ".py",
   "mimetype": "text/x-python",
   "name": "python",
   "nbconvert_exporter": "python",
   "pygments_lexer": "ipython3",
   "version": "3.12.1"
  }
 },
 "nbformat": 4,
 "nbformat_minor": 2
}
